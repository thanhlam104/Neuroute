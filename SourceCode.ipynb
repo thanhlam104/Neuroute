{
 "cells": [
  {
   "cell_type": "markdown",
   "metadata": {},
   "source": [
    "\n",
    "Import & Initialize\n"
   ]
  },
  {
   "cell_type": "code",
   "execution_count": 1,
   "metadata": {},
   "outputs": [],
   "source": [
    "import xml.etree.ElementTree as et\n",
    "from os import listdir\n",
    "from torch.utils.data import Dataset\n",
    "import torch.optim as optim\n",
    "import torch\n",
    "import torch.nn as nn\n",
    "import torch.nn.functional as F\n",
    "import json\n",
    "from torch.utils.data import DataLoader\n",
    "from sklearn.model_selection import train_test_split\n",
    "import matplotlib.pyplot as plt\n",
    "topology = et.parse('Files/topology-anonymised.xml')\n",
    "root = topology.getroot()\n"
   ]
  },
  {
   "cell_type": "markdown",
   "metadata": {},
   "source": [
    "Get list of nodes in the network topology"
   ]
  },
  {
   "cell_type": "code",
   "execution_count": 2,
   "metadata": {},
   "outputs": [
    {
     "name": "stdout",
     "output_type": "stream",
     "text": [
      "[1, 2, 3, 4, 5, 6, 7, 8, 9, 10, 11, 12, 13, 14, 15, 16, 17, 18, 19, 20, 21, 22, 23]\n"
     ]
    }
   ],
   "source": [
    "list_node = []\n",
    "for node in root[1][0]:\n",
    "    list_node.append(int(node.attrib['id']))\n",
    "list_node.sort()\n",
    "print(list_node)"
   ]
  },
  {
   "cell_type": "markdown",
   "metadata": {},
   "source": [
    "Get topology"
   ]
  },
  {
   "cell_type": "code",
   "execution_count": 3,
   "metadata": {},
   "outputs": [
    {
     "name": "stdout",
     "output_type": "stream",
     "text": [
      "1 [0, 0, 1, 0, 0, 0, 1, 0, 0, 0, 0, 0, 0, 0, 0, 1, 0, 0, 0, 0, 0, 0, 0]\n",
      "2 [0, 0, 0, 1, 0, 0, 1, 0, 0, 0, 0, 1, 1, 0, 0, 0, 0, 1, 0, 0, 0, 0, 1]\n",
      "3 [1, 0, 0, 0, 0, 0, 0, 0, 0, 1, 1, 0, 0, 1, 0, 0, 0, 0, 0, 0, 1, 0, 0]\n",
      "4 [0, 1, 0, 0, 0, 0, 0, 0, 0, 0, 0, 0, 0, 0, 0, 1, 0, 0, 0, 0, 0, 0, 0]\n",
      "5 [0, 0, 0, 0, 0, 0, 0, 1, 0, 0, 0, 0, 0, 0, 0, 1, 0, 0, 0, 0, 0, 0, 0]\n",
      "6 [0, 0, 0, 0, 0, 0, 1, 0, 0, 0, 0, 0, 0, 0, 0, 0, 0, 0, 1, 0, 0, 0, 0]\n",
      "7 [1, 1, 0, 0, 0, 1, 0, 0, 0, 0, 0, 0, 0, 0, 0, 0, 1, 0, 1, 0, 1, 0, 0]\n",
      "8 [0, 0, 0, 0, 1, 0, 0, 0, 1, 0, 0, 0, 0, 0, 0, 0, 0, 0, 0, 0, 0, 0, 0]\n",
      "9 [0, 0, 0, 0, 0, 0, 0, 1, 0, 0, 0, 0, 0, 0, 1, 1, 0, 0, 0, 0, 0, 0, 0]\n",
      "10 [0, 0, 1, 0, 0, 0, 0, 0, 0, 0, 1, 1, 0, 0, 0, 1, 1, 0, 0, 0, 0, 0, 0]\n",
      "11 [0, 0, 1, 0, 0, 0, 0, 0, 0, 1, 0, 0, 0, 0, 0, 0, 0, 0, 0, 0, 0, 0, 0]\n",
      "12 [0, 1, 0, 0, 0, 0, 0, 0, 0, 1, 0, 0, 0, 0, 0, 0, 0, 0, 0, 0, 0, 1, 0]\n",
      "13 [0, 1, 0, 0, 0, 0, 0, 0, 0, 0, 0, 0, 0, 1, 0, 0, 1, 0, 1, 0, 0, 0, 0]\n",
      "14 [0, 0, 1, 0, 0, 0, 0, 0, 0, 0, 0, 0, 1, 0, 0, 0, 0, 0, 0, 0, 0, 0, 0]\n",
      "15 [0, 0, 0, 0, 0, 0, 0, 0, 1, 0, 0, 0, 0, 0, 0, 0, 0, 0, 0, 1, 0, 0, 0]\n",
      "16 [1, 0, 0, 1, 1, 0, 0, 0, 1, 1, 0, 0, 0, 0, 0, 0, 0, 0, 0, 0, 0, 0, 0]\n",
      "17 [0, 0, 0, 0, 0, 0, 1, 0, 0, 1, 0, 0, 1, 0, 0, 0, 0, 0, 0, 1, 0, 0, 1]\n",
      "18 [0, 1, 0, 0, 0, 0, 0, 0, 0, 0, 0, 0, 0, 0, 0, 0, 0, 0, 0, 0, 1, 0, 0]\n",
      "19 [0, 0, 0, 0, 0, 1, 1, 0, 0, 0, 0, 0, 1, 0, 0, 0, 0, 0, 0, 0, 0, 0, 0]\n",
      "20 [0, 0, 0, 0, 0, 0, 0, 0, 0, 0, 0, 0, 0, 0, 1, 0, 1, 0, 0, 0, 0, 1, 0]\n",
      "21 [0, 0, 1, 0, 0, 0, 1, 0, 0, 0, 0, 0, 0, 0, 0, 0, 0, 1, 0, 0, 0, 0, 0]\n",
      "22 [0, 0, 0, 0, 0, 0, 0, 0, 0, 0, 0, 1, 0, 0, 0, 0, 0, 0, 0, 1, 0, 0, 0]\n",
      "23 [0, 1, 0, 0, 0, 0, 0, 0, 0, 0, 0, 0, 0, 0, 0, 0, 1, 0, 0, 0, 0, 0, 0]\n"
     ]
    }
   ],
   "source": [
    "n = len(list_node)\n",
    "topo_matrix = [[0 for i in range(n)] for i in range(n)]\n",
    "\n",
    "for link in root[1][1]:\n",
    "     fr = int(link[0].attrib['node'])-1\n",
    "     to = int(link[1].attrib['node'])-1\n",
    "     topo_matrix[fr][to] = 1\n",
    "     \n",
    "for i in range(len(topo_matrix)):\n",
    "     print(i+1, topo_matrix[i])\n"
   ]
  },
  {
   "cell_type": "markdown",
   "metadata": {},
   "source": [
    "Calculate min distance by Dijkstra"
   ]
  },
  {
   "cell_type": "code",
   "execution_count": 4,
   "metadata": {},
   "outputs": [
    {
     "data": {
      "text/plain": [
       "[[0, 2, 1, 2, 2, 2, 1, 3, 2, 2, 2, 3, 3, 2, 3, 1, 2, 3, 2, 3, 2, 4, 3],\n",
       " [2, 0, 3, 1, 3, 2, 1, 4, 3, 2, 3, 1, 1, 2, 4, 2, 2, 1, 2, 3, 2, 2, 1],\n",
       " [1, 3, 0, 3, 3, 3, 2, 4, 3, 1, 1, 2, 2, 1, 4, 2, 2, 2, 3, 3, 1, 3, 3],\n",
       " [2, 1, 3, 0, 2, 3, 2, 3, 2, 2, 3, 2, 2, 3, 3, 1, 3, 2, 3, 4, 3, 3, 2],\n",
       " [2, 3, 3, 2, 0, 4, 3, 1, 2, 2, 3, 3, 4, 4, 3, 1, 3, 4, 4, 4, 4, 4, 4],\n",
       " [2, 2, 3, 3, 4, 0, 1, 5, 4, 3, 4, 3, 2, 3, 4, 3, 2, 3, 1, 3, 2, 4, 3],\n",
       " [1, 1, 2, 2, 3, 1, 0, 4, 3, 2, 3, 2, 2, 3, 3, 2, 1, 2, 1, 2, 1, 3, 2],\n",
       " [3, 4, 4, 3, 1, 5, 4, 0, 1, 3, 4, 4, 5, 5, 2, 2, 4, 5, 5, 3, 5, 4, 5],\n",
       " [2, 3, 3, 2, 2, 4, 3, 1, 0, 2, 3, 3, 4, 4, 1, 1, 3, 4, 4, 2, 4, 3, 4],\n",
       " [2, 2, 1, 2, 2, 3, 2, 3, 2, 0, 1, 1, 2, 2, 3, 1, 1, 3, 3, 2, 2, 2, 2],\n",
       " [2, 3, 1, 3, 3, 4, 3, 4, 3, 1, 0, 2, 3, 2, 4, 2, 2, 3, 4, 3, 2, 3, 3],\n",
       " [3, 1, 2, 2, 3, 3, 2, 4, 3, 1, 2, 0, 2, 3, 3, 2, 2, 2, 3, 2, 3, 1, 2],\n",
       " [3, 1, 2, 2, 4, 2, 2, 5, 4, 2, 3, 2, 0, 1, 3, 3, 1, 2, 1, 2, 3, 3, 2],\n",
       " [2, 2, 1, 3, 4, 3, 3, 5, 4, 2, 2, 3, 1, 0, 4, 3, 2, 3, 2, 3, 2, 4, 3],\n",
       " [3, 4, 4, 3, 3, 4, 3, 2, 1, 3, 4, 3, 3, 4, 0, 2, 2, 5, 4, 1, 4, 2, 3],\n",
       " [1, 2, 2, 1, 1, 3, 2, 2, 1, 1, 2, 2, 3, 3, 2, 0, 2, 3, 3, 3, 3, 3, 3],\n",
       " [2, 2, 2, 3, 3, 2, 1, 4, 3, 1, 2, 2, 1, 2, 2, 2, 0, 3, 2, 1, 2, 2, 1],\n",
       " [3, 1, 2, 2, 4, 3, 2, 5, 4, 3, 3, 2, 2, 3, 5, 3, 3, 0, 3, 4, 1, 3, 2],\n",
       " [2, 2, 3, 3, 4, 1, 1, 5, 4, 3, 4, 3, 1, 2, 4, 3, 2, 3, 0, 3, 2, 4, 3],\n",
       " [3, 3, 3, 4, 4, 3, 2, 3, 2, 2, 3, 2, 2, 3, 1, 3, 1, 4, 3, 0, 3, 1, 2],\n",
       " [2, 2, 1, 3, 4, 2, 1, 5, 4, 2, 2, 3, 3, 2, 4, 3, 2, 1, 2, 3, 0, 4, 3],\n",
       " [4, 2, 3, 3, 4, 4, 3, 4, 3, 2, 3, 1, 3, 4, 2, 3, 2, 3, 4, 1, 4, 0, 3],\n",
       " [3, 1, 3, 2, 4, 3, 2, 5, 4, 2, 3, 2, 2, 3, 3, 3, 1, 2, 3, 2, 3, 3, 0]]"
      ]
     },
     "execution_count": 4,
     "metadata": {},
     "output_type": "execute_result"
    }
   ],
   "source": [
    "import sys\n",
    " \n",
    "class Graph():\n",
    " \n",
    "    def __init__(self, vertices):\n",
    "        self.V = vertices\n",
    "        self.graph = [[0 for column in range(vertices)]\n",
    "                      for row in range(vertices)]\n",
    " \n",
    "    def printSolution(self, dist):\n",
    "        print(\"Vertex tDistance from Source\")\n",
    "        for node in range(self.V):\n",
    "            print(node, \"t\", dist[node])\n",
    " \n",
    "    # A utility function to find the vertex with\n",
    "    # minimum distance value, from the set of vertices\n",
    "    # not yet included in shortest path tree\n",
    "    def minDistance(self, dist, sptSet):\n",
    "        min = sys.maxsize\n",
    "        for v in range(self.V):\n",
    "            if dist[v] < min and sptSet[v] == False:\n",
    "                min = dist[v]\n",
    "                min_index = v\n",
    " \n",
    "        return min_index\n",
    " \n",
    "    # Function that implements Dijkstra's single source\n",
    "    # shortest path algorithm for a graph represented\n",
    "    # using adjacency matrix representation\n",
    "    def dijkstra(self, src):\n",
    " \n",
    "        dist = [sys.maxsize] * self.V\n",
    "        dist[src] = 0\n",
    "        sptSet = [False] * self.V\n",
    " \n",
    "        for cout in range(self.V):\n",
    "             u = self.minDistance(dist, sptSet)\n",
    "             sptSet[u] = True\n",
    "             for v in range(self.V):\n",
    "                if self.graph[u][v] > 0 and sptSet[v] == False and dist[v] > dist[u] + self.graph[u][v]:\n",
    "                    dist[v] = dist[u] + self.graph[u][v]\n",
    " \n",
    "        # self.printSolution(dist)\n",
    "        return dist\n",
    " \n",
    " \n",
    "# Driver program\n",
    "g = Graph(23)\n",
    "g.graph = topo_matrix\n",
    " \n",
    "M = [g.dijkstra(i) for i in range(23)] #Dijkstra distance matrix\n",
    "M"
   ]
  },
  {
   "cell_type": "markdown",
   "metadata": {},
   "source": [
    "## Heuristic method "
   ]
  },
  {
   "cell_type": "code",
   "execution_count": 5,
   "metadata": {},
   "outputs": [],
   "source": [
    "#Calculating the subgraph\n",
    "T = 1\n",
    "V = [[[] for i in range(n)] for j in range(n)]\n",
    "E = [[[] for i in range(n)] for j in range(n)]\n",
    "for i in range(n):\n",
    "    for j in range(n):\n",
    "        for v in range(n):\n",
    "            if M[i][v]+ M[v][j] <= M[i][j] + T:\n",
    "                V[i][j].append(v)\n",
    "        for u in V[i][j]:\n",
    "            for v in V[i][j]:\n",
    "                if topo_matrix[u][v] == 1 and M[i][u]+ M[v][j] <= M[i][j] + T:\n",
    "                    E[i][j].append((u,v))\n",
    "\n",
    "        \n"
   ]
  },
  {
   "cell_type": "code",
   "execution_count": 6,
   "metadata": {},
   "outputs": [],
   "source": [
    "def connect(list_of_edges, start, end):\n",
    "    result = []\n",
    "    if list_of_edges != []:\n",
    "        result.append(start)\n",
    "        for e in list_of_edges:\n",
    "            if e[0] == start:\n",
    "                cur = e\n",
    "                break\n",
    "\n",
    "\n",
    "            \n",
    "        while cur[1] != end:\n",
    "            for e in list_of_edges:\n",
    "                if e[0] == cur[1]:\n",
    "                    result.append(e[0])\n",
    "                    cur = e\n",
    "                    break\n",
    "        result.append(end)\n",
    "\n",
    "    return(result)\n"
   ]
  },
  {
   "cell_type": "code",
   "execution_count": 7,
   "metadata": {},
   "outputs": [],
   "source": [
    "from pulp import *\n",
    "Z = 10000\n",
    "\n",
    "def solve_lp(W):\n",
    "    prob = LpProblem('Maximum_flow', LpMaximize)\n",
    "    r_E = [[0 for i in range (n)] for j in range(n)]\n",
    "\n",
    "    objective = []\n",
    "    rate = [[0 for i in range (n)] for j in range (n)]\n",
    "\n",
    "    for i in range(n):\n",
    "        for j in range(n):\n",
    "            if i!=j:\n",
    "                #List of variable\n",
    "                r_E[i][j] = LpVariable.dicts(f'Rate {i}_{j} on edge', E[i][j], lowBound=0, cat=\"continuous\")\n",
    "                for e in E[i][j]: \n",
    "                    #rate on edge <= capacity\n",
    "                    prob += r_E[i][j][e] <= Z\n",
    "\n",
    "                for v in V[i][j]: \n",
    "                        v_in = []\n",
    "                        v_out = []\n",
    "                        for e in E[i][j]:\n",
    "                            if e[0] == v:\n",
    "                                v_out.append(r_E[i][j][e])\n",
    "                            if e[1] == v:\n",
    "                                v_in.append(r_E[i][j][e])\n",
    "                        if v == i:\n",
    "                            prob += lpSum(v_in) == 0\n",
    "                            prob += lpSum(v_out) <= W[i][j]\n",
    "                            prob += lpSum(v_out) >= min(10, W[i][j])\n",
    "                            objective.append(v_out)\n",
    "                            rate[i][j] = lpSum(v_out)\n",
    "                            \n",
    "                        elif v== j:\n",
    "                            prob += lpSum(v_out) == 0\n",
    "                            \n",
    "                        else: \n",
    "                            prob += lpSum(v_in) == lpSum(v_out)             \n",
    "\n",
    "    prob += lpSum(objective)\n",
    "\n",
    "    for i in range(n):\n",
    "        for j in range(n):\n",
    "            edge_rate = []\n",
    "            if i<j:\n",
    "                for s in range(n):\n",
    "                    for d in range(n):\n",
    "                        if s!=d:\n",
    "                            if (i, j) in E[s][d]:\n",
    "                                edge_rate += [r_E[s][d][(i,j)]]\n",
    "                            if (j,i) in E[s][d]:\n",
    "                                edge_rate += [r_E[s][d][(j,i)]]\n",
    "            prob += lpSum(edge_rate) <= Z\n",
    "            \n",
    "    status = prob.solve()\n",
    "    # print(LpStatus[status])\n",
    "    # for i in prob.variables():\n",
    "    #     print(i.name, '=', i.varValue)\n",
    "    # print(value(prob.objective))\n",
    "\n",
    "    for i in range(n):\n",
    "        for j in range (n):\n",
    "            if rate[i][j] !=0:\n",
    "                rate[i][j] = rate[i][j].value()\n",
    "\n",
    "\n",
    "    prob1 = LpProblem('Minimum_cost', LpMinimize)\n",
    "    r_E1 = [[[] for i in range (n)] for j in range(n)]\n",
    "    epsilon = 5\n",
    "    objective = []\n",
    "    delay = lambda x: 0 if x==0 else 1\n",
    "    for i in range(n):\n",
    "        for j in range(n):\n",
    "            if i!=j:\n",
    "                #List of variable\n",
    "                r_E1[i][j] = LpVariable.dicts(f'Rate final {i}_{j} on edge', E[i][j], lowBound=0, cat=\"continuous\")\n",
    "                for e in E[i][j]: \n",
    "                    objective.append(r_E1[i][j][e])\n",
    "                for v in V[i][j]: \n",
    "                        v_in = []\n",
    "                        v_out = []\n",
    "                        for e in E[i][j]:\n",
    "                            if e[0] == v:\n",
    "                                v_out.append(r_E1[i][j][e])\n",
    "                            if e[1] == v:\n",
    "                                v_in.append(r_E1[i][j][e])\n",
    "                        if v == i:\n",
    "                            prob1 += lpSum(v_in) == 0\n",
    "                            prob1 += lpSum(v_out) <= rate[i][j] + epsilon\n",
    "                            prob1 += lpSum(v_out) >= rate[i][j] - epsilon\n",
    "                        elif v== j:\n",
    "                            prob1 += lpSum(v_out) == 0\n",
    "                            \n",
    "                        else: \n",
    "                            prob1 += lpSum(v_in) == lpSum(v_out)\n",
    "                        \n",
    "                \n",
    "\n",
    "    prob1 += lpSum(objective)\n",
    "    status = prob1.solve()\n",
    "\n",
    "    # print(LpStatus[status])\n",
    "    # for i in prob.variables():\n",
    "    #     print(i.name, '=', i.varValue)\n",
    "    # print(value(prob1.objective))\n",
    "\n",
    "\n",
    "    result = [[[] for j in range (n)] for i in range(n)]\n",
    "    for i in range(n):\n",
    "        for j in range(n):\n",
    "            if i!=j:\n",
    "                r = []\n",
    "                for edge in E[i][j]:\n",
    "                    if bool(r_E1[i][j][edge].value()):\n",
    "                        r.append(edge)\n",
    "                result[i][j] = connect(r, i, j)\n",
    "    return result\n"
   ]
  },
  {
   "cell_type": "markdown",
   "metadata": {},
   "source": [
    "Save traffic matrices as numpy array"
   ]
  },
  {
   "cell_type": "code",
   "execution_count": 8,
   "metadata": {},
   "outputs": [],
   "source": [
    "# matrices = []\n",
    "# for f in listdir('Files/traffic-matrices'):\n",
    "#     matrix = [[0 for i in range(n)] for j in range(n)]\n",
    "#     file = et.parse('traffic-matrices/'+f).getroot()\n",
    "#     for node in file[1]:\n",
    "#         fr = int(node.attrib['id'])-1\n",
    "#         for dst in node:\n",
    "#             to = int(dst.attrib['id'])-1\n",
    "#             matrix[fr][to] = float(dst.text)\n",
    "#     matrices.append(matrix)\n",
    "\n"
   ]
  },
  {
   "cell_type": "markdown",
   "metadata": {},
   "source": [
    "Read traffic matrices"
   ]
  },
  {
   "cell_type": "code",
   "execution_count": 8,
   "metadata": {},
   "outputs": [],
   "source": [
    "import numpy as np\n",
    "matrices_lp = []\n",
    "matrices_nn = []\n",
    "with open('Files/matrices.npy', 'rb') as file:\n",
    "    for m in range(10000):\n",
    "        load = np.load(file)\n",
    "        matrices_nn.append(load)\n",
    "        temp = np.zeros((23,23))\n",
    "        for i in range(n):\n",
    "            for j in range (n):\n",
    "                temp[i,j] = load[i*23+j]\n",
    "        matrices_lp.append(temp)\n"
   ]
  },
  {
   "cell_type": "markdown",
   "metadata": {},
   "source": [
    "## Training data generation"
   ]
  },
  {
   "cell_type": "code",
   "execution_count": 62,
   "metadata": {},
   "outputs": [],
   "source": [
    "def encode(data):\n",
    "    label = []\n",
    "    for row in data:\n",
    "        tmp = np.zeros(23*23*6)\n",
    "        for i in range(n):\n",
    "            for j in range(n):\n",
    "                if row[i][j] in paths[i][j]:\n",
    "                    idx = paths[i][j].index(row[i][j])\n",
    "                    tmp[i*23*6+j*6+idx] = 1\n",
    "        \n",
    "        label.append(tmp)\n",
    "    return label"
   ]
  },
  {
   "cell_type": "markdown",
   "metadata": {},
   "source": [
    "*This stage took many hours to finish. I divide the whole process into 100 batches and save the result after each batch to prevent data loss due to crash, then finally merge these files into a single file.*"
   ]
  },
  {
   "cell_type": "code",
   "execution_count": 20,
   "metadata": {},
   "outputs": [],
   "source": [
    "paths = [[[] for i in range(n)] for j in range(n)]\n",
    "paths_dict = {}\n",
    "\n",
    "for count in range(100):\n",
    "    data = []\n",
    "    for i in range (count*100, count*100+100):\n",
    "        data.append((solve_lp(matrices_lp[i])))\n",
    "\n",
    "    for row in data:\n",
    "        for i in range (n):\n",
    "            for j in range (n):\n",
    "                if row[i][j] not in paths[i][j]:\n",
    "                    paths[i][j].append(row[i][j])\n",
    "\n",
    "    for i in range(n):\n",
    "        for j in range(n):\n",
    "            for k in range(len(paths[i][j])):\n",
    "                paths_dict[f'{i}_{j}_{k}']= paths[i][j][k]\n",
    "\n",
    "    with open('Files/path.json','w') as file:\n",
    "        json.dump(paths_dict, file)\n",
    "    \n",
    "    labels = encode(data)\n",
    "\n",
    "    with open(f'Files/result{count}.npy', 'wb') as file:\n",
    "        for i in labels:\n",
    "            np.save(file, i)\n",
    "\n",
    "\n",
    "    \n"
   ]
  },
  {
   "cell_type": "markdown",
   "metadata": {},
   "source": [
    "## Data preparation"
   ]
  },
  {
   "cell_type": "code",
   "execution_count": 123,
   "metadata": {},
   "outputs": [],
   "source": [
    "#Load the data saved from the previous step\n",
    "paths = [[[] for i in range(n)] for j in range(n)]\n",
    "paths_dict = json.load(open('Files/path.json','r'))\n",
    "for i in range(n):\n",
    "    for j in range (n):\n",
    "        for k in range(6):\n",
    "            if f'{i}_{j}_{k}' in paths_dict:\n",
    "                paths[i][j].append(paths_dict[f'{i}_{j}_{k}'])\n",
    "\n",
    "labels = []\n",
    "with open('Files/result.npy', 'rb') as file:\n",
    "    for i in range(10000):\n",
    "        labels.append(np.load(file))\n",
    "\n",
    "\n",
    "#Split the data\n",
    "tm_train, tm_test, label_train, label_test = train_test_split(matrices_nn, labels, test_size=0.2, random_state=50)\n",
    "tm_train, tm_val, label_train, label_val = train_test_split(tm_train, label_train, test_size=0.125, random_state=50)\n",
    "class tmDataset(Dataset):\n",
    "  def __init__(self, matrices, paths, transform = None, target_transform = None):\n",
    "    self.paths = paths\n",
    "    self.matrices = matrices\n",
    "    self.transform = transform\n",
    "    self.target_transform = target_transform\n",
    "  def __len__(self):\n",
    "    return len(self.matrices)\n",
    "\n",
    "  def __getitem__(self, idx):\n",
    "    matrice = F.normalize(torch.tensor(self.matrices[idx], dtype = torch.float32), p = 2, dim = 0)\n",
    "    path = torch.tensor(self.paths[idx])\n",
    "    return matrice, path\n",
    "train_data = tmDataset(tm_train, label_train)\n",
    "test_data = tmDataset(tm_test, label_test)\n",
    "val_data = tmDataset(tm_val, label_val)\n",
    "from torch.utils.data import DataLoader\n",
    "train_loader = DataLoader(train_data, batch_size=100, shuffle=True)\n",
    "test_loader = DataLoader(test_data, batch_size=100, shuffle=True)\n",
    "val_loader = DataLoader(val_data, batch_size=1000, shuffle=True)"
   ]
  },
  {
   "cell_type": "markdown",
   "metadata": {},
   "source": [
    "## Building and tuning the model"
   ]
  },
  {
   "cell_type": "code",
   "execution_count": 190,
   "metadata": {},
   "outputs": [],
   "source": [
    "accuracy_val = []"
   ]
  },
  {
   "cell_type": "code",
   "execution_count": 263,
   "metadata": {},
   "outputs": [],
   "source": [
    "def to_binary(set):\n",
    "    final_set = []\n",
    "    for vector in set:\n",
    "        final_set.append(torch.where(vector>0, 1.0, 0.0))\n",
    "   \n",
    "    return torch.stack(final_set)"
   ]
  },
  {
   "cell_type": "code",
   "execution_count": 274,
   "metadata": {},
   "outputs": [
    {
     "name": "stdout",
     "output_type": "stream",
     "text": [
      "[1,    30] loss: 0.160\n",
      "[1,    60] loss: 0.107\n",
      "[2,    30] loss: 0.100\n",
      "[2,    60] loss: 0.097\n",
      "[3,    30] loss: 0.095\n",
      "[3,    60] loss: 0.092\n",
      "[4,    30] loss: 0.090\n",
      "[4,    60] loss: 0.090\n",
      "[5,    30] loss: 0.088\n",
      "[5,    60] loss: 0.088\n",
      "[6,    30] loss: 0.088\n",
      "[6,    60] loss: 0.087\n",
      "[7,    30] loss: 0.087\n",
      "[7,    60] loss: 0.087\n",
      "[8,    30] loss: 0.086\n",
      "[8,    60] loss: 0.086\n",
      "[9,    30] loss: 0.086\n",
      "[9,    60] loss: 0.086\n",
      "[10,    30] loss: 0.085\n",
      "[10,    60] loss: 0.086\n",
      "[11,    30] loss: 0.085\n",
      "[11,    60] loss: 0.085\n",
      "[12,    30] loss: 0.085\n",
      "[12,    60] loss: 0.085\n",
      "[13,    30] loss: 0.084\n",
      "[13,    60] loss: 0.084\n",
      "[14,    30] loss: 0.084\n",
      "[14,    60] loss: 0.084\n",
      "[15,    30] loss: 0.084\n",
      "[15,    60] loss: 0.084\n",
      "[16,    30] loss: 0.083\n",
      "[16,    60] loss: 0.084\n",
      "[17,    30] loss: 0.083\n",
      "[17,    60] loss: 0.084\n",
      "[18,    30] loss: 0.083\n",
      "[18,    60] loss: 0.083\n",
      "[19,    30] loss: 0.083\n",
      "[19,    60] loss: 0.083\n",
      "[20,    30] loss: 0.082\n",
      "[20,    60] loss: 0.083\n",
      "[21,    30] loss: 0.082\n",
      "[21,    60] loss: 0.082\n",
      "[22,    30] loss: 0.081\n",
      "[22,    60] loss: 0.082\n",
      "[23,    30] loss: 0.081\n",
      "[23,    60] loss: 0.082\n",
      "[24,    30] loss: 0.081\n",
      "[24,    60] loss: 0.081\n",
      "[25,    30] loss: 0.081\n",
      "[25,    60] loss: 0.081\n"
     ]
    },
    {
     "data": {
      "image/png": "[encoded data removed]",
      "text/plain": [
       "<Figure size 432x288 with 1 Axes>"
      ]
     },
     "metadata": {
      "needs_background": "light"
     },
     "output_type": "display_data"
    }
   ],
   "source": [
    "nodes = 800\n",
    "device = (\"cuda\" if torch.cuda.is_available() else \"cpu\")\n",
    "out_dim = 23*23*6\n",
    "class model(nn.Module):\n",
    "    def __init__(self):\n",
    "        super().__init__()\n",
    "\n",
    "        self.fc1 = nn.Linear(529,nodes)\n",
    "        self.fc2 = nn.Linear(nodes,nodes)\n",
    "        self.fc3 = nn.Linear(nodes,nodes)\n",
    "        self.fc4 = nn.Linear(nodes,nodes)\n",
    "        self.fc5 = nn.Linear(nodes,nodes)\n",
    "        self.fc6 = nn.Linear(nodes, out_dim)\n",
    "\n",
    "\n",
    "    def forward(self, x):\n",
    "        x = self.fc1(x)\n",
    "        x = F.relu(x)\n",
    "        x = self.fc2(x)\n",
    "        x = F.relu(x)\n",
    "        # x = self.fc3(x)\n",
    "        # x = F.relu(x)\n",
    "        # x = self.fc4(x)\n",
    "        # x = F.relu(x) \n",
    "        # x = self.fc5(x)\n",
    "        # x = F.relu(x)           \n",
    "        x = self.fc6(x)\n",
    "        return x\n",
    "\n",
    "model = model().to(device)\n",
    "optimizer = optim.Adam(model.parameters(), lr=0.01)\n",
    "criterion = nn.BCEWithLogitsLoss()\n",
    "losses = []\n",
    "for epoch in range(25):\n",
    "    running_loss = 0.0\n",
    "    for i, data in enumerate(train_loader, 0):\n",
    "\n",
    "        inputs, labels = data\n",
    "        optimizer.zero_grad()\n",
    "        outputs = model(inputs)\n",
    "        loss = criterion(outputs, labels)\n",
    "        loss.backward()\n",
    "        optimizer.step()\n",
    "\n",
    "        running_loss += loss.item()\n",
    "        if i % 30 == 29:\n",
    "            print(f'[{epoch + 1}, {i + 1:5d}] loss: {running_loss / 30:.3f}')\n",
    "            losses.append(running_loss / 30)\n",
    "            running_loss = 0.0\n",
    "\n",
    "plt.plot(losses, color= 'lightblue')\n",
    "plt.show()  \n",
    "# Evaluate on validation set\n",
    "accuracy = 0\n",
    "\n",
    "with torch.no_grad():\n",
    "    for data in val_loader:\n",
    "        inputs, labels = data\n",
    "        outputs = model(inputs)\n",
    "        predicted = to_binary(outputs)\n",
    "        difference = torch.abs(labels - predicted)\n",
    "        for i in difference:\n",
    "            accuracy += torch.sum(i) /(23*23*6)\n",
    "\n",
    "# accuracy_val.append(1-accuracy/1000)                    \n",
    "# accuracy_val"
   ]
  },
  {
   "cell_type": "markdown",
   "metadata": {},
   "source": [
    "Plot accuracy over number of epochs"
   ]
  },
  {
   "cell_type": "code",
   "execution_count": 199,
   "metadata": {},
   "outputs": [
    {
     "data": {
      "image/png": "[encoded data removed]",
      "text/plain": [
       "<Figure size 432x288 with 1 Axes>"
      ]
     },
     "metadata": {
      "needs_background": "light"
     },
     "output_type": "display_data"
    }
   ],
   "source": [
    "# x = [5,10,15,20,25,30,35]\n",
    "# y = accuracy_val\n",
    "# plt.plot(x,y, marker = 'o')\n"
   ]
  },
  {
   "cell_type": "markdown",
   "metadata": {},
   "source": [
    "Plot accuracy over number of hidden layers"
   ]
  },
  {
   "cell_type": "code",
   "execution_count": 178,
   "metadata": {},
   "outputs": [
    {
     "data": {
      "text/plain": [
       "[<matplotlib.lines.Line2D at 0x249befc9e80>]"
      ]
     },
     "execution_count": 178,
     "metadata": {},
     "output_type": "execute_result"
    },
    {
     "data": {
      "image/png": "[encoded data removed]",
      "text/plain": [
       "<Figure size 432x288 with 1 Axes>"
      ]
     },
     "metadata": {
      "needs_background": "light"
     },
     "output_type": "display_data"
    }
   ],
   "source": [
    "# x = [1,2,3,4,5]\n",
    "# y = accuracy_val\n",
    "# plt.plot(x,y, marker = 'o')\n"
   ]
  },
  {
   "cell_type": "markdown",
   "metadata": {},
   "source": [
    "Plot accuracy over number of nodes per hidden layer"
   ]
  },
  {
   "cell_type": "code",
   "execution_count": 189,
   "metadata": {},
   "outputs": [
    {
     "data": {
      "text/plain": [
       "[<matplotlib.lines.Line2D at 0x249d3f647c0>]"
      ]
     },
     "execution_count": 189,
     "metadata": {},
     "output_type": "execute_result"
    },
    {
     "data": {
      "image/png": "[encoded data removed]",
      "text/plain": [
       "<Figure size 432x288 with 1 Axes>"
      ]
     },
     "metadata": {
      "needs_background": "light"
     },
     "output_type": "display_data"
    }
   ],
   "source": [
    "# x = [100,200,300,400,500,600,700,800,900,1000]\n",
    "# y = accuracy_val\n",
    "# plt.plot(x, y, marker = 'o')"
   ]
  },
  {
   "cell_type": "markdown",
   "metadata": {},
   "source": [
    "## Evaluation on test data"
   ]
  },
  {
   "cell_type": "code",
   "execution_count": 275,
   "metadata": {},
   "outputs": [
    {
     "name": "stdout",
     "output_type": "stream",
     "text": [
      "tensor(0.9550, dtype=torch.float64)\n"
     ]
    }
   ],
   "source": [
    "error = 0\n",
    "with torch.no_grad():\n",
    "    for data in test_loader:\n",
    "        inputs, labels = data\n",
    "        outputs = model(inputs)\n",
    "        predicted = to_binary(outputs)\n",
    "        difference = torch.abs(labels - predicted)\n",
    "        for i in difference:\n",
    "            error += torch.sum(i) /(23*23*6)\n",
    "\n",
    "        \n",
    "print(1-error/2000)\n"
   ]
  },
  {
   "cell_type": "markdown",
   "metadata": {},
   "source": [
    "Execution time by heuristic method"
   ]
  },
  {
   "cell_type": "code",
   "execution_count": 267,
   "metadata": {},
   "outputs": [
    {
     "name": "stdout",
     "output_type": "stream",
     "text": [
      "--- 1.0421298027038575 seconds ---\n"
     ]
    }
   ],
   "source": [
    "import time\n",
    "start_time = time.time()\n",
    "for i in range(10):\n",
    "    solve_lp(matrices_lp[i])\n",
    "print(\"--- %s seconds ---\" % ((time.time() - start_time)/10))\n"
   ]
  },
  {
   "cell_type": "markdown",
   "metadata": {},
   "source": [
    "Execution time by neural network method"
   ]
  },
  {
   "cell_type": "code",
   "execution_count": 268,
   "metadata": {},
   "outputs": [
    {
     "name": "stdout",
     "output_type": "stream",
     "text": [
      "--- 0.0017013788223266602 seconds ---\n"
     ]
    }
   ],
   "source": [
    "start_time = time.time()\n",
    "for i in range(10):\n",
    "    x = model(inputs[i])\n",
    "    torch.where(x>0, 1, 0)\n",
    "print(\"--- %s seconds ---\" % ((time.time() - start_time)/10))"
   ]
  }
 ],
 "metadata": {
  "interpreter": {
   "hash": "9ce43836c8d3287a06e199a1efd6974587c1d8c7cdf961feda0708cd09e2869c"
  },
  "kernelspec": {
   "display_name": "Python 3.8.0 64-bit",
   "language": "python",
   "name": "python3"
  },
  "language_info": {
   "codemirror_mode": {
    "name": "ipython",
    "version": 3
   },
   "file_extension": ".py",
   "mimetype": "text/x-python",
   "name": "python",
   "nbconvert_exporter": "python",
   "pygments_lexer": "ipython3",
   "version": "3.8.0"
  },
  "orig_nbformat": 4
 },
 "nbformat": 4,
 "nbformat_minor": 2
}
